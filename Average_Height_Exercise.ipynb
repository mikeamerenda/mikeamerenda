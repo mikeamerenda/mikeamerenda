{
  "nbformat": 4,
  "nbformat_minor": 0,
  "metadata": {
    "colab": {
      "name": "Average Height Exercise",
      "provenance": [],
      "mount_file_id": "15rriAQ7lw1YzvCbf2ntDu3c136IcnxU2",
      "authorship_tag": "ABX9TyPUFMeDRSxVJAlp7UUKG3Ak",
      "include_colab_link": true
    },
    "kernelspec": {
      "name": "python3",
      "display_name": "Python 3"
    },
    "language_info": {
      "name": "python"
    }
  },
  "cells": [
    {
      "cell_type": "markdown",
      "metadata": {
        "id": "view-in-github",
        "colab_type": "text"
      },
      "source": [
        "<a href=\"https://colab.research.google.com/github/mikeamerenda/mikeamerenda/blob/main/Average_Height_Exercise.ipynb\" target=\"_parent\"><img src=\"https://colab.research.google.com/assets/colab-badge.svg\" alt=\"Open In Colab\"/></a>"
      ]
    },
    {
      "cell_type": "code",
      "metadata": {
        "id": "Fb8TWin0D01b"
      },
      "source": [
        "import pandas as pd"
      ],
      "execution_count": 3,
      "outputs": []
    },
    {
      "cell_type": "markdown",
      "metadata": {
        "id": "9AjfXtTOD_q4"
      },
      "source": [
        "1. Load this dataset and explore it! Answer the following questions:\n",
        "     - a. How many rows?\n",
        "     - b. How many columns?\n",
        "     - c. Which columns have missing values? (Why do think there are there so many null values in the Medals column?)\n",
        "     - d. How many entries correspond to the city of London?\n",
        "     - e. What age is the youngest athlete in our sample data?  Hint: use min()"
      ]
    },
    {
      "cell_type": "code",
      "metadata": {
        "colab": {
          "base_uri": "https://localhost:8080/",
          "height": 203
        },
        "id": "XCBPdemdED-p",
        "outputId": "991e9057-1d1a-4796-fa9e-36ba709a17da"
      },
      "source": [
        "#1\n",
        "df = pd.read_csv('/content/athleteEventsNoPersonal.csv')\n",
        "df.head()"
      ],
      "execution_count": 4,
      "outputs": [
        {
          "output_type": "execute_result",
          "data": {
            "text/html": [
              "<div>\n",
              "<style scoped>\n",
              "    .dataframe tbody tr th:only-of-type {\n",
              "        vertical-align: middle;\n",
              "    }\n",
              "\n",
              "    .dataframe tbody tr th {\n",
              "        vertical-align: top;\n",
              "    }\n",
              "\n",
              "    .dataframe thead th {\n",
              "        text-align: right;\n",
              "    }\n",
              "</style>\n",
              "<table border=\"1\" class=\"dataframe\">\n",
              "  <thead>\n",
              "    <tr style=\"text-align: right;\">\n",
              "      <th></th>\n",
              "      <th>ID</th>\n",
              "      <th>Age</th>\n",
              "      <th>Height</th>\n",
              "      <th>Team</th>\n",
              "      <th>NOC</th>\n",
              "      <th>Games</th>\n",
              "      <th>Year</th>\n",
              "      <th>Season</th>\n",
              "      <th>City</th>\n",
              "      <th>Sport</th>\n",
              "      <th>Event</th>\n",
              "      <th>Medal</th>\n",
              "    </tr>\n",
              "  </thead>\n",
              "  <tbody>\n",
              "    <tr>\n",
              "      <th>0</th>\n",
              "      <td>5</td>\n",
              "      <td>21.0</td>\n",
              "      <td>185.0</td>\n",
              "      <td>Netherlands</td>\n",
              "      <td>NED</td>\n",
              "      <td>1988 Winter</td>\n",
              "      <td>1988</td>\n",
              "      <td>Winter</td>\n",
              "      <td>Calgary</td>\n",
              "      <td>Speed Skating</td>\n",
              "      <td>Speed Skating Women's 500 metres</td>\n",
              "      <td>NaN</td>\n",
              "    </tr>\n",
              "    <tr>\n",
              "      <th>1</th>\n",
              "      <td>5</td>\n",
              "      <td>21.0</td>\n",
              "      <td>185.0</td>\n",
              "      <td>Netherlands</td>\n",
              "      <td>NED</td>\n",
              "      <td>1988 Winter</td>\n",
              "      <td>1988</td>\n",
              "      <td>Winter</td>\n",
              "      <td>Calgary</td>\n",
              "      <td>Speed Skating</td>\n",
              "      <td>Speed Skating Women's 1,000 metres</td>\n",
              "      <td>NaN</td>\n",
              "    </tr>\n",
              "    <tr>\n",
              "      <th>2</th>\n",
              "      <td>5</td>\n",
              "      <td>25.0</td>\n",
              "      <td>185.0</td>\n",
              "      <td>Netherlands</td>\n",
              "      <td>NED</td>\n",
              "      <td>1992 Winter</td>\n",
              "      <td>1992</td>\n",
              "      <td>Winter</td>\n",
              "      <td>Albertville</td>\n",
              "      <td>Speed Skating</td>\n",
              "      <td>Speed Skating Women's 500 metres</td>\n",
              "      <td>NaN</td>\n",
              "    </tr>\n",
              "    <tr>\n",
              "      <th>3</th>\n",
              "      <td>5</td>\n",
              "      <td>25.0</td>\n",
              "      <td>185.0</td>\n",
              "      <td>Netherlands</td>\n",
              "      <td>NED</td>\n",
              "      <td>1992 Winter</td>\n",
              "      <td>1992</td>\n",
              "      <td>Winter</td>\n",
              "      <td>Albertville</td>\n",
              "      <td>Speed Skating</td>\n",
              "      <td>Speed Skating Women's 1,000 metres</td>\n",
              "      <td>NaN</td>\n",
              "    </tr>\n",
              "    <tr>\n",
              "      <th>4</th>\n",
              "      <td>5</td>\n",
              "      <td>27.0</td>\n",
              "      <td>185.0</td>\n",
              "      <td>Netherlands</td>\n",
              "      <td>NED</td>\n",
              "      <td>1994 Winter</td>\n",
              "      <td>1994</td>\n",
              "      <td>Winter</td>\n",
              "      <td>Lillehammer</td>\n",
              "      <td>Speed Skating</td>\n",
              "      <td>Speed Skating Women's 500 metres</td>\n",
              "      <td>NaN</td>\n",
              "    </tr>\n",
              "  </tbody>\n",
              "</table>\n",
              "</div>"
            ],
            "text/plain": [
              "   ID   Age  Height  ...          Sport                               Event Medal\n",
              "0   5  21.0   185.0  ...  Speed Skating    Speed Skating Women's 500 metres   NaN\n",
              "1   5  21.0   185.0  ...  Speed Skating  Speed Skating Women's 1,000 metres   NaN\n",
              "2   5  25.0   185.0  ...  Speed Skating    Speed Skating Women's 500 metres   NaN\n",
              "3   5  25.0   185.0  ...  Speed Skating  Speed Skating Women's 1,000 metres   NaN\n",
              "4   5  27.0   185.0  ...  Speed Skating    Speed Skating Women's 500 metres   NaN\n",
              "\n",
              "[5 rows x 12 columns]"
            ]
          },
          "metadata": {},
          "execution_count": 4
        }
      ]
    },
    {
      "cell_type": "code",
      "metadata": {
        "colab": {
          "base_uri": "https://localhost:8080/"
        },
        "id": "vfUe3dcLEJLd",
        "outputId": "c9cf7cf3-43fb-4013-ab54-970a2bd9dcde"
      },
      "source": [
        "#1a) How many rows\n",
        "#1b) How many Columns\n",
        "df.shape\n",
        "# 40,616 rows\n",
        "# 12 Columns"
      ],
      "execution_count": 5,
      "outputs": [
        {
          "output_type": "execute_result",
          "data": {
            "text/plain": [
              "(40616, 12)"
            ]
          },
          "metadata": {},
          "execution_count": 5
        }
      ]
    },
    {
      "cell_type": "code",
      "metadata": {
        "colab": {
          "base_uri": "https://localhost:8080/"
        },
        "id": "TkkYxTlaEQuQ",
        "outputId": "2820df83-73f0-48bd-9832-cebe238c9d63"
      },
      "source": [
        "# 1c) Which columns have missing values? (Why do think there are there so many null values in the Medals column?)\n",
        "df.isnull().sum()\n",
        "# columns 'Age', 'Heigth', and 'Medal' have missing data\n",
        "# Medal is missing data because only a few people one medals for the event they participated in"
      ],
      "execution_count": 6,
      "outputs": [
        {
          "output_type": "execute_result",
          "data": {
            "text/plain": [
              "ID            0\n",
              "Age        1473\n",
              "Height     9001\n",
              "Team          0\n",
              "NOC           0\n",
              "Games         0\n",
              "Year          0\n",
              "Season        0\n",
              "City          0\n",
              "Sport         0\n",
              "Event         0\n",
              "Medal     34699\n",
              "dtype: int64"
            ]
          },
          "metadata": {},
          "execution_count": 6
        }
      ]
    },
    {
      "cell_type": "code",
      "metadata": {
        "colab": {
          "base_uri": "https://localhost:8080/"
        },
        "id": "MhcYqKB2FxyE",
        "outputId": "ac671763-3571-473a-d369-d1edd90f7bb8"
      },
      "source": [
        "# 1d) How many entries correspond to the city of London?\n",
        "london= df['City'] == 'London'\n",
        "London =df.loc[london]\n",
        "London.shape\n",
        "#3370 entries correspond with London"
      ],
      "execution_count": 30,
      "outputs": [
        {
          "output_type": "execute_result",
          "data": {
            "text/plain": [
              "(3370, 12)"
            ]
          },
          "metadata": {},
          "execution_count": 30
        }
      ]
    },
    {
      "cell_type": "code",
      "metadata": {
        "colab": {
          "base_uri": "https://localhost:8080/"
        },
        "id": "WKElOu4hIalz",
        "outputId": "5ba3cd8e-eea6-4c16-a7ec-2c4fa9c048d3"
      },
      "source": [
        "#1e) What age is the youngest athlete in our sample data? Hint use min()\n",
        "df['Age'].min()\n",
        "#11 years is the youngest athlete"
      ],
      "execution_count": 31,
      "outputs": [
        {
          "output_type": "execute_result",
          "data": {
            "text/plain": [
              "11.0"
            ]
          },
          "metadata": {},
          "execution_count": 31
        }
      ]
    },
    {
      "cell_type": "markdown",
      "metadata": {
        "id": "GOTZC5tQEUTo"
      },
      "source": [
        "2. Create filters to find out:\n",
        "     - a. How many athletes who participated in the Sport \"Tug-Of-War\" were from Team \"Sweden\" in our sample dataset?\n",
        "     - b. How many Gold medals were awarded to athletes who were over 40 years old?"
      ]
    },
    {
      "cell_type": "code",
      "metadata": {
        "colab": {
          "base_uri": "https://localhost:8080/"
        },
        "id": "aY4dIMSQESM-",
        "outputId": "ec26eda2-2005-4a05-81b8-bfd95cd761ad"
      },
      "source": [
        "# 2a) How many athletes who participated in the Sport \"Tug-Of-War\" were from Team \"Sweden\" in our sample dataset?\n",
        "tug_of_war_filter = df['Sport'] =='Tug-Of-War'\n",
        "sweden_filter = df['Team'] == \"Sweden\"\n",
        "#show only data of athletes from Sweden who competed in the Tug Of War\n",
        "sweden_tug_of_war = df.loc[tug_of_war_filter&sweden_filter]\n",
        "#show the amount of athletes. (shown by the row)\n",
        "sweden_tug_of_war.shape\n",
        "# 6 Swedish athletes competed in  Tug Of War"
      ],
      "execution_count": 9,
      "outputs": [
        {
          "output_type": "execute_result",
          "data": {
            "text/plain": [
              "(6, 12)"
            ]
          },
          "metadata": {},
          "execution_count": 9
        }
      ]
    },
    {
      "cell_type": "code",
      "metadata": {
        "colab": {
          "base_uri": "https://localhost:8080/"
        },
        "id": "0q36F7WYElX5",
        "outputId": "2b00fe18-7aab-40a0-f3bf-eaae6efd851f"
      },
      "source": [
        "# 2b) How many Gold medals were awarded to athletes who were over 40 years old?\n",
        "age_filter = df['Age'] > 40\n",
        "gold_filter = df['Medal'] == \"Gold\"\n",
        "#show only data of athletes over forty who won gold\n",
        "forty_gold = df.loc[age_filter&gold_filter]\n",
        "#show the amount of athletes. (shown by the row)\n",
        "forty_gold.shape\n",
        "# 66 athletes won gold over the age of 40"
      ],
      "execution_count": 34,
      "outputs": [
        {
          "output_type": "execute_result",
          "data": {
            "text/plain": [
              "(66, 12)"
            ]
          },
          "metadata": {},
          "execution_count": 34
        }
      ]
    },
    {
      "cell_type": "markdown",
      "metadata": {
        "id": "uxqjKxwuFhcA"
      },
      "source": [
        "3. Determine the average height of:\n",
        "     - a. All rows included.\n",
        "     - b. All rows included, but grouped by Event."
      ]
    },
    {
      "cell_type": "code",
      "metadata": {
        "colab": {
          "base_uri": "https://localhost:8080/"
        },
        "id": "6KYKWN7vFXyF",
        "outputId": "98804adb-97d8-458e-cbf9-d6c794676d77"
      },
      "source": [
        "#3a) All rows Included\n",
        "df['Height'].mean()\n",
        "#Average height is 175.38cm"
      ],
      "execution_count": 32,
      "outputs": [
        {
          "output_type": "execute_result",
          "data": {
            "text/plain": [
              "175.3811165585956"
            ]
          },
          "metadata": {},
          "execution_count": 32
        }
      ]
    },
    {
      "cell_type": "code",
      "metadata": {
        "colab": {
          "base_uri": "https://localhost:8080/"
        },
        "id": "ZNfmPMBLJCPR",
        "outputId": "98eb528e-f36f-4167-9163-8cbdb4b011f6"
      },
      "source": [
        "# 3b) All rows included, but grouped by Event.\n",
        "df.groupby('Event')['Height'].mean()"
      ],
      "execution_count": 33,
      "outputs": [
        {
          "output_type": "execute_result",
          "data": {
            "text/plain": [
              "Event\n",
              "Alpine Skiing Men's Combined                      178.547170\n",
              "Alpine Skiing Men's Downhill                      178.211679\n",
              "Alpine Skiing Men's Giant Slalom                  176.739394\n",
              "Alpine Skiing Men's Slalom                        176.482143\n",
              "Alpine Skiing Men's Super G                       179.850575\n",
              "                                                     ...    \n",
              "Wrestling Women's Flyweight, Freestyle            158.100000\n",
              "Wrestling Women's Heavyweight, Freestyle          173.444444\n",
              "Wrestling Women's Light-Heavyweight, Freestyle    170.000000\n",
              "Wrestling Women's Lightweight, Freestyle          162.666667\n",
              "Wrestling Women's Middleweight, Freestyle         164.533333\n",
              "Name: Height, Length: 726, dtype: float64"
            ]
          },
          "metadata": {},
          "execution_count": 33
        }
      ]
    },
    {
      "cell_type": "code",
      "metadata": {
        "id": "5u4aHcNSJXJF"
      },
      "source": [
        ""
      ],
      "execution_count": null,
      "outputs": []
    }
  ]
}