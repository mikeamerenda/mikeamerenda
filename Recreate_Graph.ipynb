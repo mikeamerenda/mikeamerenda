{
  "nbformat": 4,
  "nbformat_minor": 0,
  "metadata": {
    "colab": {
      "name": "Recreate Graph",
      "provenance": [],
      "collapsed_sections": [],
      "mount_file_id": "1Z2aT30IBTYWRBRgQpb06sA-EZttqBV7l",
      "authorship_tag": "ABX9TyNIlKA1ybpJ+zWCvyqUgPft",
      "include_colab_link": true
    },
    "kernelspec": {
      "name": "python3",
      "display_name": "Python 3"
    },
    "language_info": {
      "name": "python"
    }
  },
  "cells": [
    {
      "cell_type": "markdown",
      "metadata": {
        "id": "view-in-github",
        "colab_type": "text"
      },
      "source": [
        "<a href=\"https://colab.research.google.com/github/mikeamerenda/mikeamerenda/blob/main/Recreate_Graph.ipynb\" target=\"_parent\"><img src=\"https://colab.research.google.com/assets/colab-badge.svg\" alt=\"Open In Colab\"/></a>"
      ]
    },
    {
      "cell_type": "code",
      "metadata": {
        "id": "qP_01Qv1FFfF"
      },
      "source": [
        "import pandas as pd\n",
        "# plt is always used as the alias for thae matplotlib.pyplot module\n",
        "import matplotlib.pyplot as plt"
      ],
      "execution_count": 1,
      "outputs": []
    },
    {
      "cell_type": "code",
      "metadata": {
        "colab": {
          "base_uri": "https://localhost:8080/",
          "height": 203
        },
        "id": "z7dPlZzNFGEn",
        "outputId": "f4899353-8ad6-4236-9f40-c59ed772cdb9"
      },
      "source": [
        "df=pd.read_csv('/content/mortgages (2).csv')\n",
        "df.head()"
      ],
      "execution_count": 2,
      "outputs": [
        {
          "output_type": "execute_result",
          "data": {
            "text/html": [
              "<div>\n",
              "<style scoped>\n",
              "    .dataframe tbody tr th:only-of-type {\n",
              "        vertical-align: middle;\n",
              "    }\n",
              "\n",
              "    .dataframe tbody tr th {\n",
              "        vertical-align: top;\n",
              "    }\n",
              "\n",
              "    .dataframe thead th {\n",
              "        text-align: right;\n",
              "    }\n",
              "</style>\n",
              "<table border=\"1\" class=\"dataframe\">\n",
              "  <thead>\n",
              "    <tr style=\"text-align: right;\">\n",
              "      <th></th>\n",
              "      <th>Month</th>\n",
              "      <th>Starting Balance</th>\n",
              "      <th>Repayment</th>\n",
              "      <th>Interest Paid</th>\n",
              "      <th>Principal Paid</th>\n",
              "      <th>New Balance</th>\n",
              "      <th>Mortgage Name</th>\n",
              "      <th>Interest Rate</th>\n",
              "    </tr>\n",
              "  </thead>\n",
              "  <tbody>\n",
              "    <tr>\n",
              "      <th>0</th>\n",
              "      <td>1</td>\n",
              "      <td>400000.00</td>\n",
              "      <td>1686.42</td>\n",
              "      <td>1000.00</td>\n",
              "      <td>686.42</td>\n",
              "      <td>399313.58</td>\n",
              "      <td>30 Year</td>\n",
              "      <td>0.03</td>\n",
              "    </tr>\n",
              "    <tr>\n",
              "      <th>1</th>\n",
              "      <td>2</td>\n",
              "      <td>399313.58</td>\n",
              "      <td>1686.42</td>\n",
              "      <td>998.28</td>\n",
              "      <td>688.14</td>\n",
              "      <td>398625.44</td>\n",
              "      <td>30 Year</td>\n",
              "      <td>0.03</td>\n",
              "    </tr>\n",
              "    <tr>\n",
              "      <th>2</th>\n",
              "      <td>3</td>\n",
              "      <td>398625.44</td>\n",
              "      <td>1686.42</td>\n",
              "      <td>996.56</td>\n",
              "      <td>689.86</td>\n",
              "      <td>397935.58</td>\n",
              "      <td>30 Year</td>\n",
              "      <td>0.03</td>\n",
              "    </tr>\n",
              "    <tr>\n",
              "      <th>3</th>\n",
              "      <td>4</td>\n",
              "      <td>397935.58</td>\n",
              "      <td>1686.42</td>\n",
              "      <td>994.83</td>\n",
              "      <td>691.59</td>\n",
              "      <td>397243.99</td>\n",
              "      <td>30 Year</td>\n",
              "      <td>0.03</td>\n",
              "    </tr>\n",
              "    <tr>\n",
              "      <th>4</th>\n",
              "      <td>5</td>\n",
              "      <td>397243.99</td>\n",
              "      <td>1686.42</td>\n",
              "      <td>993.10</td>\n",
              "      <td>693.32</td>\n",
              "      <td>396550.67</td>\n",
              "      <td>30 Year</td>\n",
              "      <td>0.03</td>\n",
              "    </tr>\n",
              "  </tbody>\n",
              "</table>\n",
              "</div>"
            ],
            "text/plain": [
              "   Month  Starting Balance  Repayment  ...  New Balance  Mortgage Name  Interest Rate\n",
              "0      1         400000.00    1686.42  ...    399313.58        30 Year           0.03\n",
              "1      2         399313.58    1686.42  ...    398625.44        30 Year           0.03\n",
              "2      3         398625.44    1686.42  ...    397935.58        30 Year           0.03\n",
              "3      4         397935.58    1686.42  ...    397243.99        30 Year           0.03\n",
              "4      5         397243.99    1686.42  ...    396550.67        30 Year           0.03\n",
              "\n",
              "[5 rows x 8 columns]"
            ]
          },
          "metadata": {},
          "execution_count": 2
        }
      ]
    },
    {
      "cell_type": "code",
      "metadata": {
        "colab": {
          "base_uri": "https://localhost:8080/"
        },
        "id": "A_OMUtKyFOZe",
        "outputId": "037b95d8-9ff8-4579-f4bd-685d60a8d6c9"
      },
      "source": [
        "# 1) Create a filter so the mortgage Name is '30 Year'. Use the len() to find how many rows correspond to 30 years.\n",
        "mortgage_filter = df['Mortgage Name']=='30 Year'\n",
        "len(mortgage_filter)"
      ],
      "execution_count": 3,
      "outputs": [
        {
          "output_type": "execute_result",
          "data": {
            "text/plain": [
              "1080"
            ]
          },
          "metadata": {},
          "execution_count": 3
        }
      ]
    },
    {
      "cell_type": "code",
      "metadata": {
        "id": "mC7q1IWyFflO"
      },
      "source": [
        "# 2) Create a filter for an interest rate of 3% (notice how it is written in the data!)\n",
        "interest_filter = df['Interest Rate']==0.03"
      ],
      "execution_count": 4,
      "outputs": []
    },
    {
      "cell_type": "code",
      "metadata": {
        "colab": {
          "base_uri": "https://localhost:8080/",
          "height": 203
        },
        "id": "C0WoA9sHF6St",
        "outputId": "5e61ca4f-14a5-44cc-c2e3-7b5f7fc5ee0c"
      },
      "source": [
        "# 3) Define a new dattframe based on both the year and the interest filters you have created\n",
        "thirty_three= df.loc[interest_filter&mortgage_filter]\n",
        "thirty_three.head()"
      ],
      "execution_count": 5,
      "outputs": [
        {
          "output_type": "execute_result",
          "data": {
            "text/html": [
              "<div>\n",
              "<style scoped>\n",
              "    .dataframe tbody tr th:only-of-type {\n",
              "        vertical-align: middle;\n",
              "    }\n",
              "\n",
              "    .dataframe tbody tr th {\n",
              "        vertical-align: top;\n",
              "    }\n",
              "\n",
              "    .dataframe thead th {\n",
              "        text-align: right;\n",
              "    }\n",
              "</style>\n",
              "<table border=\"1\" class=\"dataframe\">\n",
              "  <thead>\n",
              "    <tr style=\"text-align: right;\">\n",
              "      <th></th>\n",
              "      <th>Month</th>\n",
              "      <th>Starting Balance</th>\n",
              "      <th>Repayment</th>\n",
              "      <th>Interest Paid</th>\n",
              "      <th>Principal Paid</th>\n",
              "      <th>New Balance</th>\n",
              "      <th>Mortgage Name</th>\n",
              "      <th>Interest Rate</th>\n",
              "    </tr>\n",
              "  </thead>\n",
              "  <tbody>\n",
              "    <tr>\n",
              "      <th>0</th>\n",
              "      <td>1</td>\n",
              "      <td>400000.00</td>\n",
              "      <td>1686.42</td>\n",
              "      <td>1000.00</td>\n",
              "      <td>686.42</td>\n",
              "      <td>399313.58</td>\n",
              "      <td>30 Year</td>\n",
              "      <td>0.03</td>\n",
              "    </tr>\n",
              "    <tr>\n",
              "      <th>1</th>\n",
              "      <td>2</td>\n",
              "      <td>399313.58</td>\n",
              "      <td>1686.42</td>\n",
              "      <td>998.28</td>\n",
              "      <td>688.14</td>\n",
              "      <td>398625.44</td>\n",
              "      <td>30 Year</td>\n",
              "      <td>0.03</td>\n",
              "    </tr>\n",
              "    <tr>\n",
              "      <th>2</th>\n",
              "      <td>3</td>\n",
              "      <td>398625.44</td>\n",
              "      <td>1686.42</td>\n",
              "      <td>996.56</td>\n",
              "      <td>689.86</td>\n",
              "      <td>397935.58</td>\n",
              "      <td>30 Year</td>\n",
              "      <td>0.03</td>\n",
              "    </tr>\n",
              "    <tr>\n",
              "      <th>3</th>\n",
              "      <td>4</td>\n",
              "      <td>397935.58</td>\n",
              "      <td>1686.42</td>\n",
              "      <td>994.83</td>\n",
              "      <td>691.59</td>\n",
              "      <td>397243.99</td>\n",
              "      <td>30 Year</td>\n",
              "      <td>0.03</td>\n",
              "    </tr>\n",
              "    <tr>\n",
              "      <th>4</th>\n",
              "      <td>5</td>\n",
              "      <td>397243.99</td>\n",
              "      <td>1686.42</td>\n",
              "      <td>993.10</td>\n",
              "      <td>693.32</td>\n",
              "      <td>396550.67</td>\n",
              "      <td>30 Year</td>\n",
              "      <td>0.03</td>\n",
              "    </tr>\n",
              "  </tbody>\n",
              "</table>\n",
              "</div>"
            ],
            "text/plain": [
              "   Month  Starting Balance  Repayment  ...  New Balance  Mortgage Name  Interest Rate\n",
              "0      1         400000.00    1686.42  ...    399313.58        30 Year           0.03\n",
              "1      2         399313.58    1686.42  ...    398625.44        30 Year           0.03\n",
              "2      3         398625.44    1686.42  ...    397935.58        30 Year           0.03\n",
              "3      4         397935.58    1686.42  ...    397243.99        30 Year           0.03\n",
              "4      5         397243.99    1686.42  ...    396550.67        30 Year           0.03\n",
              "\n",
              "[5 rows x 8 columns]"
            ]
          },
          "metadata": {},
          "execution_count": 5
        }
      ]
    },
    {
      "cell_type": "code",
      "metadata": {
        "id": "eIcNNmLSH2ts"
      },
      "source": [
        "# 4) We have a choice for the 5% interest rate. We can just create another filter where df.['Interest Rate']==.05\n",
        "interest_filter2 = df['Interest Rate']==.05\n",
        "mortgage_filter2 = df['Mortgage Name']=='30 Year'\n",
        "thirty_five = df.loc[mortgage_filter2&interest_filter2]"
      ],
      "execution_count": 66,
      "outputs": []
    },
    {
      "cell_type": "code",
      "metadata": {
        "colab": {
          "base_uri": "https://localhost:8080/"
        },
        "id": "_6YA6MJ1Is_k",
        "outputId": "efbbf5da-def6-4f5d-a4e0-921386f94a9e"
      },
      "source": [
        "# 4) Since we want to graph the cumulative sum of the interest paid, you can use the function .cumsum().  \n",
        "# What are the first three values in the output for the cumulative sum of the 3% rate?\n",
        "thirty_three['Interest Paid'].cumsum()\n",
        "# 10.80"
      ],
      "execution_count": 63,
      "outputs": [
        {
          "output_type": "execute_result",
          "data": {
            "text/plain": [
              "0        1000.00\n",
              "1        1998.28\n",
              "2        2994.84\n",
              "3        3989.67\n",
              "4        4982.77\n",
              "         ...    \n",
              "355    207064.13\n",
              "356    207080.87\n",
              "357    207093.44\n",
              "358    207101.82\n",
              "359    207106.01\n",
              "Name: Interest Paid, Length: 360, dtype: float64"
            ]
          },
          "metadata": {},
          "execution_count": 63
        }
      ]
    },
    {
      "cell_type": "code",
      "metadata": {
        "colab": {
          "base_uri": "https://localhost:8080/"
        },
        "id": "0uOnPZTeRihb",
        "outputId": "0f1d8c2c-9087-491c-81bd-db2c7d8c8b2a"
      },
      "source": [
        "thirty_five['Interest Paid'].cumsum()"
      ],
      "execution_count": 70,
      "outputs": [
        {
          "output_type": "execute_result",
          "data": {
            "text/plain": [
              "360      1666.66\n",
              "361      3331.32\n",
              "362      4993.97\n",
              "363      6654.60\n",
              "364      8313.20\n",
              "         ...    \n",
              "715    372928.64\n",
              "716    372964.02\n",
              "717    372990.60\n",
              "718    373008.35\n",
              "719    373017.23\n",
              "Name: Interest Paid, Length: 360, dtype: float64"
            ]
          },
          "metadata": {},
          "execution_count": 70
        }
      ]
    },
    {
      "cell_type": "code",
      "metadata": {
        "colab": {
          "base_uri": "https://localhost:8080/",
          "height": 282
        },
        "id": "qU2NcykGIZUq",
        "outputId": "3561deea-02df-4023-a3d4-4c5e9d612bd2"
      },
      "source": [
        "# 5) Use plt.plot(x, y, c=color) to plot the black line (5%).  \n",
        "# We want the x values to be the ['Month'] and the y values to be the cumulative sum of the Interest Paid.  \n",
        "# You can use the code from the previous question to define your y values within the plt.plot() function!  Hint: for black, c = 'k'\n",
        "# plt.plot(['Month'],[thirty_three['Interest Rate'].cumsum()],['k'])\n",
        "plt.plot(thirty_five['Month'],thirty_five['Interest Paid'].cumsum(),'k')"
      ],
      "execution_count": 69,
      "outputs": [
        {
          "output_type": "execute_result",
          "data": {
            "text/plain": [
              "[<matplotlib.lines.Line2D at 0x7fa2fb63db90>]"
            ]
          },
          "metadata": {},
          "execution_count": 69
        },
        {
          "output_type": "display_data",
          "data": {
            "image/png": "[encoded data removed]",
            "text/plain": [
              "<Figure size 432x288 with 1 Axes>"
            ]
          },
          "metadata": {
            "needs_background": "light"
          }
        }
      ]
    },
    {
      "cell_type": "code",
      "metadata": {
        "colab": {
          "base_uri": "https://localhost:8080/",
          "height": 282
        },
        "id": "88L4hJV7RsW3",
        "outputId": "6f36ac69-1fac-4786-c06e-355e54e463bb"
      },
      "source": [
        "plt.plot(thirty_three['Month'],thirty_three['Interest Paid'].cumsum(),'b')"
      ],
      "execution_count": 71,
      "outputs": [
        {
          "output_type": "execute_result",
          "data": {
            "text/plain": [
              "[<matplotlib.lines.Line2D at 0x7fa2fb5abd50>]"
            ]
          },
          "metadata": {},
          "execution_count": 71
        },
        {
          "output_type": "display_data",
          "data": {
            "image/png": "[encoded data removed]",
            "text/plain": [
              "<Figure size 432x288 with 1 Axes>"
            ]
          },
          "metadata": {
            "needs_background": "light"
          }
        }
      ]
    },
    {
      "cell_type": "code",
      "metadata": {
        "colab": {
          "base_uri": "https://localhost:8080/",
          "height": 282
        },
        "id": "UUrUbA9DKh47",
        "outputId": "c1b71370-5efd-4ed2-9c74-1ba9c0c321f6"
      },
      "source": [
        "# 6. To get both lines on the same graph, just put two plt.plot() functions one after the other in same code block and run it!\n",
        "plt.plot(thirty_five['Month'],thirty_five['Interest Paid'].cumsum(),'k')\n",
        "plt.plot(thirty_three['Month'],thirty_three['Interest Paid'].cumsum(),'b')"
      ],
      "execution_count": 68,
      "outputs": [
        {
          "output_type": "execute_result",
          "data": {
            "text/plain": [
              "[<matplotlib.lines.Line2D at 0x7fa2fb652950>]"
            ]
          },
          "metadata": {},
          "execution_count": 68
        },
        {
          "output_type": "display_data",
          "data": {
            "image/png": "[encoded data removed]",
            "text/plain": [
              "<Figure size 432x288 with 1 Axes>"
            ]
          },
          "metadata": {
            "needs_background": "light"
          }
        }
      ]
    },
    {
      "cell_type": "code",
      "metadata": {
        "id": "bKAXFZmbO4MD"
      },
      "source": [
        ""
      ],
      "execution_count": null,
      "outputs": []
    }
  ]
}