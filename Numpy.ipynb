{
  "nbformat": 4,
  "nbformat_minor": 0,
  "metadata": {
    "colab": {
      "name": "Numpy",
      "provenance": [],
      "authorship_tag": "ABX9TyN81Th0hf0JPyW8HOd/mHp/",
      "include_colab_link": true
    },
    "kernelspec": {
      "name": "python3",
      "display_name": "Python 3"
    },
    "language_info": {
      "name": "python"
    }
  },
  "cells": [
    {
      "cell_type": "markdown",
      "metadata": {
        "id": "view-in-github",
        "colab_type": "text"
      },
      "source": [
        "<a href=\"https://colab.research.google.com/github/mikeamerenda/mikeamerenda/blob/main/Numpy.ipynb\" target=\"_parent\"><img src=\"https://colab.research.google.com/assets/colab-badge.svg\" alt=\"Open In Colab\"/></a>"
      ]
    },
    {
      "cell_type": "code",
      "metadata": {
        "colab": {
          "base_uri": "https://localhost:8080/"
        },
        "id": "xgQmGG0fR8ue",
        "outputId": "9b67f324-b3c2-45a8-f68a-25fa5df0374d"
      },
      "source": [
        "price = [2,1,10]\n",
        "type(price)"
      ],
      "execution_count": 1,
      "outputs": [
        {
          "output_type": "execute_result",
          "data": {
            "text/plain": [
              "list"
            ]
          },
          "metadata": {},
          "execution_count": 1
        }
      ]
    },
    {
      "cell_type": "code",
      "metadata": {
        "colab": {
          "base_uri": "https://localhost:8080/"
        },
        "id": "ZTH5-XrKR-sP",
        "outputId": "f1e25250-bed0-4336-896b-324a12f859c5"
      },
      "source": [
        "quantity_sold = [17,40,1]\n",
        "type(quantity_sold)"
      ],
      "execution_count": 2,
      "outputs": [
        {
          "output_type": "execute_result",
          "data": {
            "text/plain": [
              "list"
            ]
          },
          "metadata": {},
          "execution_count": 2
        }
      ]
    },
    {
      "cell_type": "code",
      "metadata": {
        "id": "tnG0Io3NSAUE"
      },
      "source": [
        "import numpy as np"
      ],
      "execution_count": 3,
      "outputs": []
    },
    {
      "cell_type": "code",
      "metadata": {
        "colab": {
          "base_uri": "https://localhost:8080/"
        },
        "id": "2tycAprySBjU",
        "outputId": "6ccca58e-081a-43da-c1a9-b20d35a247c1"
      },
      "source": [
        "price_array = np.array(price)\n",
        "quantity_sold_array = np.array(quantity_sold)\n",
        "type(price_array)"
      ],
      "execution_count": 4,
      "outputs": [
        {
          "output_type": "execute_result",
          "data": {
            "text/plain": [
              "numpy.ndarray"
            ]
          },
          "metadata": {},
          "execution_count": 4
        }
      ]
    },
    {
      "cell_type": "code",
      "metadata": {
        "colab": {
          "base_uri": "https://localhost:8080/"
        },
        "id": "qRS6FHv2SC9J",
        "outputId": "fcdcf2d2-a4e9-4e99-d67a-ac5abc15b286"
      },
      "source": [
        "price_array * quantity_sold_array"
      ],
      "execution_count": 5,
      "outputs": [
        {
          "output_type": "execute_result",
          "data": {
            "text/plain": [
              "array([34, 40, 10])"
            ]
          },
          "metadata": {},
          "execution_count": 5
        }
      ]
    },
    {
      "cell_type": "code",
      "metadata": {
        "id": "rFuYH1IcSEWI"
      },
      "source": [
        "cost_array = np.array([0.25,0.50,5.00])"
      ],
      "execution_count": 6,
      "outputs": []
    },
    {
      "cell_type": "code",
      "metadata": {
        "colab": {
          "base_uri": "https://localhost:8080/"
        },
        "id": "T09wyknWSFhA",
        "outputId": "e5e1400c-ab7c-4ab5-e8c0-3fe6b36a708a"
      },
      "source": [
        "profit_array = price_array - cost_array\n",
        "print(profit_array)"
      ],
      "execution_count": 7,
      "outputs": [
        {
          "output_type": "stream",
          "name": "stdout",
          "text": [
            "[1.75 0.5  5.  ]\n"
          ]
        }
      ]
    },
    {
      "cell_type": "code",
      "metadata": {
        "colab": {
          "base_uri": "https://localhost:8080/"
        },
        "id": "sM2o1SgWSG2I",
        "outputId": "57c75a68-a90a-4ae8-d6a2-28850975c205"
      },
      "source": [
        "profit_array > 2.00"
      ],
      "execution_count": 8,
      "outputs": [
        {
          "output_type": "execute_result",
          "data": {
            "text/plain": [
              "array([False, False,  True])"
            ]
          },
          "metadata": {},
          "execution_count": 8
        }
      ]
    },
    {
      "cell_type": "code",
      "metadata": {
        "colab": {
          "base_uri": "https://localhost:8080/"
        },
        "id": "c_19fCrASIGo",
        "outputId": "386431ca-1b28-4ee4-dca5-143c951b6ac0"
      },
      "source": [
        "price_array = price_array +[7]\n",
        "print(price_array)"
      ],
      "execution_count": 9,
      "outputs": [
        {
          "output_type": "stream",
          "name": "stdout",
          "text": [
            "[ 9  8 17]\n"
          ]
        }
      ]
    },
    {
      "cell_type": "code",
      "metadata": {
        "colab": {
          "base_uri": "https://localhost:8080/"
        },
        "id": "L-0pWP9oSKak",
        "outputId": "f5701cfa-c340-4c4a-db27-b68b92470f83"
      },
      "source": [
        "# Just fixing the mistake\n",
        "price_array = price_array - [7]\n",
        "# he proper way to append an element to an array\n",
        "price_array = np.append(price_array, 7)\n",
        "print(price_array)"
      ],
      "execution_count": 10,
      "outputs": [
        {
          "output_type": "stream",
          "name": "stdout",
          "text": [
            "[ 2  1 10  7]\n"
          ]
        }
      ]
    },
    {
      "cell_type": "code",
      "metadata": {
        "colab": {
          "base_uri": "https://localhost:8080/"
        },
        "id": "yjGUABEjSMIE",
        "outputId": "30971034-64f0-4ae3-84af-cd1b4fac4268"
      },
      "source": [
        "price_array = np.append(price_array, [4.50,3,4,9])\n",
        "print(price_array)"
      ],
      "execution_count": 11,
      "outputs": [
        {
          "output_type": "stream",
          "name": "stdout",
          "text": [
            "[ 2.   1.  10.   7.   4.5  3.   4.   9. ]\n"
          ]
        }
      ]
    },
    {
      "cell_type": "code",
      "metadata": {
        "colab": {
          "base_uri": "https://localhost:8080/"
        },
        "id": "rbLafs5xSOtk",
        "outputId": "af53124c-5e4e-429b-842b-60379fedd73a"
      },
      "source": [
        "print(price_array.dtype)"
      ],
      "execution_count": 12,
      "outputs": [
        {
          "output_type": "stream",
          "name": "stdout",
          "text": [
            "float64\n"
          ]
        }
      ]
    },
    {
      "cell_type": "code",
      "metadata": {
        "colab": {
          "base_uri": "https://localhost:8080/"
        },
        "id": "4e-4c259SQVU",
        "outputId": "dfeb766f-064e-42c7-d508-4b6f9aaf9264"
      },
      "source": [
        "price_array = np.delete(price_array, -1)\n",
        "print(price_array)"
      ],
      "execution_count": 13,
      "outputs": [
        {
          "output_type": "stream",
          "name": "stdout",
          "text": [
            "[ 2.   1.  10.   7.   4.5  3.   4. ]\n"
          ]
        }
      ]
    },
    {
      "cell_type": "code",
      "metadata": {
        "colab": {
          "base_uri": "https://localhost:8080/"
        },
        "id": "1Wod1MsbSR78",
        "outputId": "c5a95eac-a84d-4acc-ac11-f926dd114187"
      },
      "source": [
        "price_array[2] = 12\n",
        "print(price_array)"
      ],
      "execution_count": 14,
      "outputs": [
        {
          "output_type": "stream",
          "name": "stdout",
          "text": [
            "[ 2.   1.  12.   7.   4.5  3.   4. ]\n"
          ]
        }
      ]
    },
    {
      "cell_type": "code",
      "metadata": {
        "colab": {
          "base_uri": "https://localhost:8080/"
        },
        "id": "79lVBzK2ST08",
        "outputId": "ae092372-1786-4858-b0a9-9c49e8c7ecf3"
      },
      "source": [
        "#2 Update the  quantity_sold_array to include the sale of 2 pies,  3 trays of fudge, 16 cupcakes, and 5 loaves of banana bread.\n",
        "quantity_sold_array = np.append(quantity_sold_array, [2,3,16,5])\n",
        "print(quantity_sold_array)"
      ],
      "execution_count": 15,
      "outputs": [
        {
          "output_type": "stream",
          "name": "stdout",
          "text": [
            "[17 40  1  2  3 16  5]\n"
          ]
        }
      ]
    },
    {
      "cell_type": "code",
      "metadata": {
        "colab": {
          "base_uri": "https://localhost:8080/"
        },
        "id": "AW5VU0PVSVIU",
        "outputId": "41f2ffeb-aaee-4b82-f136-1d905b6b5106"
      },
      "source": [
        "#2 You also realize that one of the cookies you thought was sold had actually fallen on the ground, so edit the quantity_sold_array from 40 to 39.  \n",
        "quantity_sold_array[1] = 39\n",
        "print(quantity_sold_array)"
      ],
      "execution_count": 16,
      "outputs": [
        {
          "output_type": "stream",
          "name": "stdout",
          "text": [
            "[17 39  1  2  3 16  5]\n"
          ]
        }
      ]
    },
    {
      "cell_type": "code",
      "metadata": {
        "colab": {
          "base_uri": "https://localhost:8080/"
        },
        "id": "ApB5z78GSie0",
        "outputId": "0a21f726-3ef5-4d40-8430-16fadc31b9cd"
      },
      "source": [
        "#3 Determine the amount of money collected from the sale of each item at the bake sale.  \n",
        "price_array * quantity_sold_array"
      ],
      "execution_count": 17,
      "outputs": [
        {
          "output_type": "execute_result",
          "data": {
            "text/plain": [
              "array([34. , 39. , 12. , 14. , 13.5, 48. , 20. ])"
            ]
          },
          "metadata": {},
          "execution_count": 17
        }
      ]
    },
    {
      "cell_type": "code",
      "metadata": {
        "id": "Cj2sU3plStRZ"
      },
      "source": [
        "#4 Create a NumPy array \"quantity_leftover\" that includes the quantity of each item remaining at the end of the sale: 2 cakes, 1 pie, 6 trays of fudge, 2 loaves of banana bread.  Hint: Make sure to include \"0\" for any item that was sold out. Why is this important when creating the array?\n",
        "quantity_leftover_array = np.array([0,0,2,1,6,0,2])"
      ],
      "execution_count": 18,
      "outputs": []
    },
    {
      "cell_type": "code",
      "metadata": {
        "colab": {
          "base_uri": "https://localhost:8080/"
        },
        "id": "9IHH3aW1TeKG",
        "outputId": "dfef6113-b770-4ff1-91d2-71abfee4fb3b"
      },
      "source": [
        "#4\n",
        "print(quantity_leftover_array)"
      ],
      "execution_count": 19,
      "outputs": [
        {
          "output_type": "stream",
          "name": "stdout",
          "text": [
            "[0 0 2 1 6 0 2]\n"
          ]
        }
      ]
    },
    {
      "cell_type": "code",
      "metadata": {
        "colab": {
          "base_uri": "https://localhost:8080/"
        },
        "id": "FQWvzIP2UCDj",
        "outputId": "7a62aac9-fd4d-46cb-c690-79a4ef950be5"
      },
      "source": [
        "#5 The club decides to sell the leftover items at half price and everything quickly sells out!  Determine how much money was collected from the clearance sale.  \n",
        "quantity_leftover_array * (price_array/2)"
      ],
      "execution_count": 22,
      "outputs": [
        {
          "output_type": "execute_result",
          "data": {
            "text/plain": [
              "array([ 0. ,  0. , 12. ,  3.5, 13.5,  0. ,  4. ])"
            ]
          },
          "metadata": {},
          "execution_count": 22
        }
      ]
    },
    {
      "cell_type": "code",
      "metadata": {
        "colab": {
          "base_uri": "https://localhost:8080/"
        },
        "id": "CSKvofdxUIto",
        "outputId": "f47682ac-6e87-4577-9dac-92bd2fa6269d"
      },
      "source": [
        "#6 How much total money was collected from the bake sale (including the sale of full price and clearance items)?\n",
        "((price_array * quantity_sold_array + (quantity_leftover_array * (price_array/2))))"
      ],
      "execution_count": 28,
      "outputs": [
        {
          "output_type": "execute_result",
          "data": {
            "text/plain": [
              "array([34. , 39. , 24. , 17.5, 27. , 48. , 24. ])"
            ]
          },
          "metadata": {},
          "execution_count": 28
        }
      ]
    },
    {
      "cell_type": "code",
      "metadata": {
        "colab": {
          "base_uri": "https://localhost:8080/"
        },
        "id": "Zh--VfNVUypN",
        "outputId": "637af748-2c9d-4bd2-80a9-6d893ed8375d"
      },
      "source": [
        "#6 in Sum format\n",
        "np.sum((price_array * quantity_sold_array + (quantity_leftover_array * (price_array/2))))"
      ],
      "execution_count": 29,
      "outputs": [
        {
          "output_type": "execute_result",
          "data": {
            "text/plain": [
              "213.5"
            ]
          },
          "metadata": {},
          "execution_count": 29
        }
      ]
    },
    {
      "cell_type": "code",
      "metadata": {
        "id": "weiWzYqmVvkZ"
      },
      "source": [
        ""
      ],
      "execution_count": null,
      "outputs": []
    }
  ]
}