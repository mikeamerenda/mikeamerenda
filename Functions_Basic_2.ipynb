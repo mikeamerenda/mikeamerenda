{
  "nbformat": 4,
  "nbformat_minor": 0,
  "metadata": {
    "colab": {
      "name": "Functions Basic 2",
      "provenance": [],
      "authorship_tag": "ABX9TyM3oW4eG+foDuD/vHdZyJRY",
      "include_colab_link": true
    },
    "kernelspec": {
      "name": "python3",
      "display_name": "Python 3"
    },
    "language_info": {
      "name": "python"
    }
  },
  "cells": [
    {
      "cell_type": "markdown",
      "metadata": {
        "id": "view-in-github",
        "colab_type": "text"
      },
      "source": [
        "<a href=\"https://colab.research.google.com/github/mikeamerenda/mikeamerenda/blob/main/Functions_Basic_2.ipynb\" target=\"_parent\"><img src=\"https://colab.research.google.com/assets/colab-badge.svg\" alt=\"Open In Colab\"/></a>"
      ]
    },
    {
      "cell_type": "code",
      "metadata": {
        "colab": {
          "base_uri": "https://localhost:8080/"
        },
        "id": "fAQKobhbkKLz",
        "outputId": "f3164d0b-35f5-445a-fc75-73c194126df4"
      },
      "source": [
        "def sub(a,b):\n",
        "    x=a - b\n",
        "    return x\n",
        "a = sub(5,0)\n",
        "b = sub(5,1)\n",
        "c = sub(5,2)\n",
        "d = sub(5,3)\n",
        "e = sub(5,4)\n",
        "f = sub(5,5)\n",
        "\n",
        "print(a)\n",
        "print(b)\n",
        "print(c)\n",
        "print(d)\n",
        "print(e)\n",
        "print(f)"
      ],
      "execution_count": 22,
      "outputs": [
        {
          "output_type": "stream",
          "text": [
            "5\n",
            "4\n",
            "3\n",
            "2\n",
            "1\n",
            "0\n"
          ],
          "name": "stdout"
        }
      ]
    },
    {
      "cell_type": "code",
      "metadata": {
        "colab": {
          "base_uri": "https://localhost:8080/"
        },
        "id": "ldGu6CkZoVtQ",
        "outputId": "96527842-d2a9-48b6-90c2-5529c068412b"
      },
      "source": [
        "def a():\n",
        "    print(1)\n",
        "    return 10\n",
        "print(a())"
      ],
      "execution_count": 38,
      "outputs": [
        {
          "output_type": "stream",
          "text": [
            "1\n",
            "10\n"
          ],
          "name": "stdout"
        }
      ]
    }
  ]
}